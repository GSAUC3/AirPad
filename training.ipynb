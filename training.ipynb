{
 "cells": [
  {
   "cell_type": "code",
   "execution_count": 2,
   "metadata": {},
   "outputs": [
    {
     "name": "stdout",
     "output_type": "stream",
     "text": [
      "cuda\n",
      "\n",
      "Epoch 1/30\n",
      "-------------------------------\n"
     ]
    },
    {
     "name": "stderr",
     "output_type": "stream",
     "text": [
      "100%|██████████| 4177/4177 [01:27<00:00, 47.77it/s] \n"
     ]
    },
    {
     "name": "stdout",
     "output_type": "stream",
     "text": [
      "\n",
      "Training Loss = 0.417563\tAccuracy on Training set = 89.237031% [59638/66831]\n",
      "\n",
      "Epoch 2/30\n",
      "-------------------------------\n"
     ]
    },
    {
     "name": "stderr",
     "output_type": "stream",
     "text": [
      "100%|██████████| 4177/4177 [00:48<00:00, 86.51it/s] \n"
     ]
    },
    {
     "name": "stdout",
     "output_type": "stream",
     "text": [
      "\n",
      "Training Loss = 0.120148\tAccuracy on Training set = 96.607862% [64564/66831]\n",
      "\n",
      "Epoch 3/30\n",
      "-------------------------------\n"
     ]
    },
    {
     "name": "stderr",
     "output_type": "stream",
     "text": [
      "100%|██████████| 4177/4177 [00:49<00:00, 83.61it/s] \n"
     ]
    },
    {
     "name": "stdout",
     "output_type": "stream",
     "text": [
      "\n",
      "Training Loss = 0.086046\tAccuracy on Training set = 97.525101% [65177/66831]\n",
      "\n",
      "Epoch 4/30\n",
      "-------------------------------\n"
     ]
    },
    {
     "name": "stderr",
     "output_type": "stream",
     "text": [
      "100%|██████████| 4177/4177 [00:50<00:00, 82.11it/s] \n"
     ]
    },
    {
     "name": "stdout",
     "output_type": "stream",
     "text": [
      "\n",
      "Training Loss = 0.067009\tAccuracy on Training set = 98.105670% [65565/66831]\n",
      "\n",
      "Epoch 5/30\n",
      "-------------------------------\n"
     ]
    },
    {
     "name": "stderr",
     "output_type": "stream",
     "text": [
      "100%|██████████| 4177/4177 [00:50<00:00, 82.02it/s] \n"
     ]
    },
    {
     "name": "stdout",
     "output_type": "stream",
     "text": [
      "\n",
      "Training Loss = 0.055683\tAccuracy on Training set = 98.407924% [65767/66831]\n",
      "\n",
      "Epoch 6/30\n",
      "-------------------------------\n"
     ]
    },
    {
     "name": "stderr",
     "output_type": "stream",
     "text": [
      "100%|██████████| 4177/4177 [00:51<00:00, 81.59it/s] \n"
     ]
    },
    {
     "name": "stdout",
     "output_type": "stream",
     "text": [
      "\n",
      "Training Loss = 0.045428\tAccuracy on Training set = 98.701202% [65963/66831]\n",
      "\n",
      "Epoch 7/30\n",
      "-------------------------------\n"
     ]
    },
    {
     "name": "stderr",
     "output_type": "stream",
     "text": [
      "100%|██████████| 4177/4177 [00:51<00:00, 81.79it/s] \n"
     ]
    },
    {
     "name": "stdout",
     "output_type": "stream",
     "text": [
      "\n",
      "Training Loss = 0.038354\tAccuracy on Training set = 98.867292% [66074/66831]\n",
      "\n",
      "Epoch 8/30\n",
      "-------------------------------\n"
     ]
    },
    {
     "name": "stderr",
     "output_type": "stream",
     "text": [
      "100%|██████████| 4177/4177 [00:50<00:00, 82.14it/s] \n"
     ]
    },
    {
     "name": "stdout",
     "output_type": "stream",
     "text": [
      "\n",
      "Training Loss = 0.033575\tAccuracy on Training set = 98.995975% [66160/66831]\n",
      "\n",
      "Epoch 9/30\n",
      "-------------------------------\n"
     ]
    },
    {
     "name": "stderr",
     "output_type": "stream",
     "text": [
      "100%|██████████| 4177/4177 [00:49<00:00, 84.12it/s] \n"
     ]
    },
    {
     "name": "stdout",
     "output_type": "stream",
     "text": [
      "\n",
      "Training Loss = 0.028540\tAccuracy on Training set = 99.181518% [66284/66831]\n",
      "\n",
      "Epoch 10/30\n",
      "-------------------------------\n"
     ]
    },
    {
     "name": "stderr",
     "output_type": "stream",
     "text": [
      "100%|██████████| 4177/4177 [00:49<00:00, 84.31it/s] \n"
     ]
    },
    {
     "name": "stdout",
     "output_type": "stream",
     "text": [
      "\n",
      "Training Loss = 0.024512\tAccuracy on Training set = 99.278778% [66349/66831]\n",
      "\n",
      "Epoch 11/30\n",
      "-------------------------------\n"
     ]
    },
    {
     "name": "stderr",
     "output_type": "stream",
     "text": [
      "100%|██████████| 4177/4177 [00:49<00:00, 83.98it/s] \n"
     ]
    },
    {
     "name": "stdout",
     "output_type": "stream",
     "text": [
      "\n",
      "Training Loss = 0.020779\tAccuracy on Training set = 99.388009% [66422/66831]\n",
      "\n",
      "Epoch 12/30\n",
      "-------------------------------\n"
     ]
    },
    {
     "name": "stderr",
     "output_type": "stream",
     "text": [
      "100%|██████████| 4177/4177 [00:49<00:00, 83.98it/s] \n"
     ]
    },
    {
     "name": "stdout",
     "output_type": "stream",
     "text": [
      "\n",
      "Training Loss = 0.018287\tAccuracy on Training set = 99.461328% [66471/66831]\n",
      "\n",
      "Epoch 13/30\n",
      "-------------------------------\n"
     ]
    },
    {
     "name": "stderr",
     "output_type": "stream",
     "text": [
      "100%|██████████| 4177/4177 [00:50<00:00, 82.98it/s] \n"
     ]
    },
    {
     "name": "stdout",
     "output_type": "stream",
     "text": [
      "\n",
      "Training Loss = 0.015885\tAccuracy on Training set = 99.525669% [66514/66831]\n",
      "\n",
      "Epoch 14/30\n",
      "-------------------------------\n"
     ]
    },
    {
     "name": "stderr",
     "output_type": "stream",
     "text": [
      "100%|██████████| 4177/4177 [00:40<00:00, 102.37it/s]\n"
     ]
    },
    {
     "name": "stdout",
     "output_type": "stream",
     "text": [
      "\n",
      "Training Loss = 0.013834\tAccuracy on Training set = 99.582529% [66552/66831]\n",
      "\n",
      "Epoch 15/30\n",
      "-------------------------------\n"
     ]
    },
    {
     "name": "stderr",
     "output_type": "stream",
     "text": [
      "100%|██████████| 4177/4177 [00:39<00:00, 106.01it/s]\n"
     ]
    },
    {
     "name": "stdout",
     "output_type": "stream",
     "text": [
      "\n",
      "Training Loss = 0.011877\tAccuracy on Training set = 99.640885% [66591/66831]\n",
      "\n",
      "Epoch 16/30\n",
      "-------------------------------\n"
     ]
    },
    {
     "name": "stderr",
     "output_type": "stream",
     "text": [
      "100%|██████████| 4177/4177 [00:39<00:00, 105.24it/s]\n"
     ]
    },
    {
     "name": "stdout",
     "output_type": "stream",
     "text": [
      "\n",
      "Training Loss = 0.010382\tAccuracy on Training set = 99.684278% [66620/66831]\n",
      "\n",
      "Epoch 17/30\n",
      "-------------------------------\n"
     ]
    },
    {
     "name": "stderr",
     "output_type": "stream",
     "text": [
      "100%|██████████| 4177/4177 [00:39<00:00, 106.29it/s]\n"
     ]
    },
    {
     "name": "stdout",
     "output_type": "stream",
     "text": [
      "\n",
      "Training Loss = 0.009232\tAccuracy on Training set = 99.726175% [66648/66831]\n",
      "\n",
      "Epoch 18/30\n",
      "-------------------------------\n"
     ]
    },
    {
     "name": "stderr",
     "output_type": "stream",
     "text": [
      "100%|██████████| 4177/4177 [00:39<00:00, 105.55it/s]\n"
     ]
    },
    {
     "name": "stdout",
     "output_type": "stream",
     "text": [
      "\n",
      "Training Loss = 0.008583\tAccuracy on Training set = 99.730664% [66651/66831]\n",
      "\n",
      "Epoch 19/30\n",
      "-------------------------------\n"
     ]
    },
    {
     "name": "stderr",
     "output_type": "stream",
     "text": [
      "100%|██████████| 4177/4177 [00:39<00:00, 106.31it/s]\n"
     ]
    },
    {
     "name": "stdout",
     "output_type": "stream",
     "text": [
      "\n",
      "Training Loss = 0.006811\tAccuracy on Training set = 99.789020% [66690/66831]\n",
      "\n",
      "Epoch 20/30\n",
      "-------------------------------\n"
     ]
    },
    {
     "name": "stderr",
     "output_type": "stream",
     "text": [
      "100%|██████████| 4177/4177 [00:39<00:00, 105.74it/s]\n"
     ]
    },
    {
     "name": "stdout",
     "output_type": "stream",
     "text": [
      "\n",
      "Training Loss = 0.006096\tAccuracy on Training set = 99.814457% [66707/66831]\n",
      "\n",
      "Epoch 21/30\n",
      "-------------------------------\n"
     ]
    },
    {
     "name": "stderr",
     "output_type": "stream",
     "text": [
      "100%|██████████| 4177/4177 [00:39<00:00, 105.45it/s]\n"
     ]
    },
    {
     "name": "stdout",
     "output_type": "stream",
     "text": [
      "\n",
      "Training Loss = 0.005682\tAccuracy on Training set = 99.829420% [66717/66831]\n",
      "\n",
      "Epoch 22/30\n",
      "-------------------------------\n"
     ]
    },
    {
     "name": "stderr",
     "output_type": "stream",
     "text": [
      "100%|██████████| 4177/4177 [00:39<00:00, 105.92it/s]\n"
     ]
    },
    {
     "name": "stdout",
     "output_type": "stream",
     "text": [
      "\n",
      "Training Loss = 0.005273\tAccuracy on Training set = 99.842887% [66726/66831]\n",
      "\n",
      "Epoch 23/30\n",
      "-------------------------------\n"
     ]
    },
    {
     "name": "stderr",
     "output_type": "stream",
     "text": [
      "100%|██████████| 4177/4177 [00:39<00:00, 105.90it/s]\n"
     ]
    },
    {
     "name": "stdout",
     "output_type": "stream",
     "text": [
      "\n",
      "Training Loss = 0.004623\tAccuracy on Training set = 99.841391% [66725/66831]\n",
      "\n",
      "Epoch 24/30\n",
      "-------------------------------\n"
     ]
    },
    {
     "name": "stderr",
     "output_type": "stream",
     "text": [
      "100%|██████████| 4177/4177 [00:39<00:00, 106.14it/s]\n"
     ]
    },
    {
     "name": "stdout",
     "output_type": "stream",
     "text": [
      "\n",
      "Training Loss = 0.004061\tAccuracy on Training set = 99.874310% [66747/66831]\n",
      "\n",
      "Epoch 25/30\n",
      "-------------------------------\n"
     ]
    },
    {
     "name": "stderr",
     "output_type": "stream",
     "text": [
      "100%|██████████| 4177/4177 [00:39<00:00, 106.14it/s]\n"
     ]
    },
    {
     "name": "stdout",
     "output_type": "stream",
     "text": [
      "\n",
      "Training Loss = 0.004092\tAccuracy on Training set = 99.860843% [66738/66831]\n",
      "\n",
      "Epoch 26/30\n",
      "-------------------------------\n"
     ]
    },
    {
     "name": "stderr",
     "output_type": "stream",
     "text": [
      "100%|██████████| 4177/4177 [00:39<00:00, 105.59it/s]\n"
     ]
    },
    {
     "name": "stdout",
     "output_type": "stream",
     "text": [
      "\n",
      "Training Loss = 0.003347\tAccuracy on Training set = 99.910221% [66771/66831]\n",
      "\n",
      "Epoch 27/30\n",
      "-------------------------------\n"
     ]
    },
    {
     "name": "stderr",
     "output_type": "stream",
     "text": [
      "100%|██████████| 4177/4177 [00:39<00:00, 106.12it/s]\n"
     ]
    },
    {
     "name": "stdout",
     "output_type": "stream",
     "text": [
      "\n",
      "Training Loss = 0.003422\tAccuracy on Training set = 99.898251% [66763/66831]\n",
      "\n",
      "Epoch 28/30\n",
      "-------------------------------\n"
     ]
    },
    {
     "name": "stderr",
     "output_type": "stream",
     "text": [
      "100%|██████████| 4177/4177 [00:39<00:00, 105.28it/s]\n"
     ]
    },
    {
     "name": "stdout",
     "output_type": "stream",
     "text": [
      "\n",
      "Training Loss = 0.002473\tAccuracy on Training set = 99.925184% [66781/66831]\n",
      "\n",
      "Epoch 29/30\n",
      "-------------------------------\n"
     ]
    },
    {
     "name": "stderr",
     "output_type": "stream",
     "text": [
      "100%|██████████| 4177/4177 [00:39<00:00, 105.70it/s]\n"
     ]
    },
    {
     "name": "stdout",
     "output_type": "stream",
     "text": [
      "\n",
      "Training Loss = 0.002986\tAccuracy on Training set = 99.910221% [66771/66831]\n",
      "\n",
      "Epoch 30/30\n",
      "-------------------------------\n"
     ]
    },
    {
     "name": "stderr",
     "output_type": "stream",
     "text": [
      "100%|██████████| 4177/4177 [00:39<00:00, 105.68it/s]"
     ]
    },
    {
     "name": "stdout",
     "output_type": "stream",
     "text": [
      "\n",
      "Training Loss = 0.002190\tAccuracy on Training set = 99.943140% [66793/66831]\n",
      "\n",
      "Training has completed!\n"
     ]
    },
    {
     "name": "stderr",
     "output_type": "stream",
     "text": [
      "\n"
     ]
    }
   ],
   "source": [
    "import torch \n",
    "import torch.nn as nn\n",
    "from torch.utils.data import DataLoader\n",
    "from torchvision import transforms,models\n",
    "from torchvision.datasets import ImageFolder\n",
    "from torchsummary import summary\n",
    "import matplotlib.pyplot as plt\n",
    "from sklearn.metrics import confusion_matrix, classification_report\n",
    "from tqdm import tqdm\n",
    "import numpy as np\n",
    "import seaborn as sns\n",
    "import pandas as pd\n",
    "\n",
    "device = torch.device('cuda' if torch.cuda.is_available() else 'cpu') #Use GPU if it's available or else use CPU.\n",
    "print(device) #Prints the device we're using.\n",
    "\n",
    "\n",
    "mean,std = [0.5,0.5,0.5], [0.5,0.5,0.5]\n",
    "train = ImageFolder('dataset',transform=transforms.Compose([\n",
    "    transforms.Resize((28,28)),transforms.ToTensor(),\n",
    "        transforms.Normalize(mean,std)]))\n",
    "\n",
    "class Cnn(nn.Module):\n",
    "    def __init__(self) -> None:\n",
    "        super(Cnn,self).__init__()\n",
    "\n",
    "        self.conv = nn.Sequential(\n",
    "            nn.Conv2d(3,64,5,1), \n",
    "            nn.ReLU(), # 24x 24\n",
    "            nn.MaxPool2d(2,2), # 16x 12 x 12\n",
    "\n",
    "            nn.Conv2d(64,128,3), \n",
    "            nn.ReLU(),\n",
    "            nn.MaxPool2d(2,2), # 32x5x5\n",
    "\n",
    "            nn.Conv2d(128,128,5), # 64x 1x14\n",
    "            nn.ReLU(),\n",
    "\n",
    "            nn.Conv2d(128,36,1,1) # 10x1x1\n",
    "            \n",
    "        )\n",
    "    def forward(self,x):\n",
    "        x = self.conv(x)\n",
    "        return x\n",
    "\n",
    "model =  Cnn()\n",
    "model.to(device)\n",
    "batch=16\n",
    "train_dl = DataLoader(train,batch,shuffle=True,num_workers=4)\n",
    "\n",
    "def train(dataloader,model,loss_fn,optimizer):\n",
    "    model.train()\n",
    "    total= 0 \n",
    "    correct = 0\n",
    "    running_loss = 0\n",
    "\n",
    "    for (x,y) in tqdm(dataloader):\n",
    "        output = model(x.to(device))\n",
    "        output = torch.flatten(output,1)\n",
    "        loss = loss_fn(output,y.to(device))\n",
    "\n",
    "        running_loss += loss.item()\n",
    "        total += y.size(0)\n",
    "        predictions = output.argmax(dim=1).cpu().detach()\n",
    "        # index of the highest score for all the samples in the batch\n",
    "        correct += (predictions==y.cpu().detach()).sum().item()\n",
    "        optimizer.zero_grad()\n",
    "        loss.backward()\n",
    "        optimizer.step()\n",
    "    acc=100*(correct/total)\n",
    "    avg_loss = running_loss/len(dataloader) # average loss for a single batch\n",
    "    print(f'\\nTraining Loss = {avg_loss:.6f}',end='\\t')\n",
    "    print(f'Accuracy on Training set = {100*(correct/total):.6f}% [{correct}/{total}]') #Prints the Accuracy.\n",
    "    \n",
    "    return avg_loss,acc\n",
    "\n",
    "\n",
    "\n",
    "def optimize(train_dataloader,model,\n",
    "loss_fn,optimizer,nb_epochs):\n",
    "   \n",
    "    train_losses = []\n",
    "    valid_losses = []\n",
    "    val= []\n",
    "    acc=[]\n",
    "\n",
    "    for epoch in range(nb_epochs):\n",
    "        print(f'\\nEpoch {epoch+1}/{nb_epochs}')\n",
    "        print('-------------------------------')\n",
    "        train_loss,a = train(train_dataloader,model,loss_fn,optimizer) \n",
    "        train_losses.append(train_loss)\n",
    "        acc.append(a)\n",
    "  \n",
    "    \n",
    "    print('\\nTraining has completed!')\n",
    "    \n",
    "    return train_losses,acc\n",
    "\n",
    "loss_fn   = nn.CrossEntropyLoss()\n",
    "optimizer = torch.optim.Adam(model.parameters(),lr=5e-5) \n",
    "nb_epochs = 30\n",
    "#Call the optimize function.\n",
    "train_losses,acc = optimize(train_dl,model,loss_fn,optimizer,nb_epochs)\n",
    "\n",
    "\n",
    "def Final_test(dataloader,model,loss_fn):\n",
    "\n",
    "#     model in evaluation mode\n",
    "    model.eval() \n",
    "    \n",
    "    total = 0\n",
    "    correct = 0\n",
    "    running_loss = 0\n",
    "    \n",
    "    with torch.no_grad(): # gradients calculation not required\n",
    "        \n",
    "        for x,y in dataloader:\n",
    "            \n",
    "            output        = model(x.to(device)) #model's output.\n",
    "            output = torch.flatten(output,1)\n",
    "            loss          = loss_fn(output,y.to(device)).item() #loss calculation.\n",
    "            running_loss += loss\n",
    "            \n",
    "            total        += y.size(0)\n",
    "            predictions   = output.argmax(dim=1).cpu().detach()\n",
    "            correct      += (predictions == y.cpu().detach()).sum().item()\n",
    "            \n",
    "    avg_loss = running_loss/len(dataloader) #Average loss per batch.      \n",
    "    val_acc = 100*(correct/total)\n",
    "    print(f'test Loss = {avg_loss:.6f}',end='\\t')\n",
    "    print(f'Accuracy on test set = {100*(correct/total):.6f}% [{correct}/{total}]') #Prints the Accuracy.\n",
    "\n",
    "\n"
   ]
  },
  {
   "cell_type": "code",
   "execution_count": 3,
   "metadata": {},
   "outputs": [
    {
     "data": {
      "image/png": "[encoded data removed]",
      "text/plain": [
       "<Figure size 432x288 with 1 Axes>"
      ]
     },
     "metadata": {
      "needs_background": "light"
     },
     "output_type": "display_data"
    }
   ],
   "source": [
    "epochs = range(nb_epochs)\n",
    "plt.plot(epochs, train_losses, 'g', label='Training loss')\n",
    "plt.title('Training and Validation loss')\n",
    "plt.xlabel('Epochs')\n",
    "plt.ylabel('Loss')\n",
    "plt.legend()\n",
    "plt.show()\n",
    "\n"
   ]
  },
  {
   "cell_type": "code",
   "execution_count": 4,
   "metadata": {},
   "outputs": [
    {
     "data": {
      "image/png": "[encoded data removed]",
      "text/plain": [
       "<Figure size 432x288 with 1 Axes>"
      ]
     },
     "metadata": {
      "needs_background": "light"
     },
     "output_type": "display_data"
    }
   ],
   "source": [
    "\n",
    "plt.plot(epochs, acc, 'g', label='Training accuracy')\n",
    "plt.title('Training and Validation accuracy')\n",
    "plt.xlabel('Epochs')\n",
    "plt.ylabel('accuracy')\n",
    "plt.legend()\n",
    "plt.show()"
   ]
  },
  {
   "cell_type": "code",
   "execution_count": null,
   "metadata": {},
   "outputs": [],
   "source": [
    "torch.save(model.state_dict(),'model.pth')"
   ]
  }
 ],
 "metadata": {
  "kernelspec": {
   "display_name": "Python 3.9.5 64-bit",
   "language": "python",
   "name": "python3"
  },
  "language_info": {
   "codemirror_mode": {
    "name": "ipython",
    "version": 3
   },
   "file_extension": ".py",
   "mimetype": "text/x-python",
   "name": "python",
   "nbconvert_exporter": "python",
   "pygments_lexer": "ipython3",
   "version": "3.9.5"
  },
  "orig_nbformat": 4,
  "vscode": {
   "interpreter": {
    "hash": "1c74d99681ad1a2c591eba718ee02a1ecc6e61532130e8f76172a42e8769d33f"
   }
  }
 },
 "nbformat": 4,
 "nbformat_minor": 2
}
